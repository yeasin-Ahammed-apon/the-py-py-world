{
 "cells": [
  {
   "cell_type": "code",
   "execution_count": 3,
   "metadata": {},
   "outputs": [
    {
     "name": "stdout",
     "output_type": "stream",
     "text": [
      "\"most of the text thing \n",
      " is same as js , php and c++\"..\n",
      "lets have a look in other things , that \t\t\t\t are not same\n",
      "yeasin ahammed apon\n",
      "this is a multiline line text which is alos work like this. but you  can see there is no new line \n"
     ]
    }
   ],
   "source": [
    "# 3.1.2. Text\n",
    "print(\"\\\"most of the text thing \\n is same as js , php and c++\\\"..\")\n",
    "print(\"lets have a look in other things , that \\t\\t\\t\\t are not same\")\n",
    "\n",
    "   \n",
    "    # string next to each other automaticly concatinated\n",
    "print('yeasin' ' ahammed ' + \"apon\")\n",
    "text = ('this is a '\n",
    "        'multiline line text '\n",
    "        'which is alos work like this. '\n",
    "        'but you  can see there is no new line ')\n",
    "print(text)\n",
    " "
   ]
  },
  {
   "cell_type": "code",
   "execution_count": 4,
   "metadata": {},
   "outputs": [
    {
     "name": "stdout",
     "output_type": "stream",
     "text": [
      "index with (+) start  ----> p\n",
      "index with (-) start ----> n\n",
      "Ap\n",
      "pon\n"
     ]
    },
    {
     "data": {
      "text/plain": [
       "'on'"
      ]
     },
     "execution_count": 4,
     "metadata": {},
     "output_type": "execute_result"
    }
   ],
   "source": [
    "   # character having index\n",
    "text2 = \"Apon\" \n",
    "print('index with (+) start  ----> ' + text2[1]) # here (+) number will start from left\n",
    "print('index with (-) start ----> ' + text2[-1]) # here (-) number will start from right\n",
    "    #[Note] side note + can start from 0 which will show A char but -1 it will show N \n",
    "# here are  some other examle with iindex\n",
    "print(text2[:2])\n",
    "print(text2[1:4])\n",
    "text2[:2]   # character from the beginning to position 2 (excluded)\n",
    "text2[4:]   # characters from position 4 (included) to the end\n",
    "text2[-2:]  # characters from the second-last (included) to the end\n"
   ]
  },
  {
   "cell_type": "code",
   "execution_count": 5,
   "metadata": {},
   "outputs": [
    {
     "name": "stdout",
     "output_type": "stream",
     "text": [
      "\n",
      "      this is for multiline thing\n",
      "      this is good for multiline thing .\n",
      "      like it.\n",
      "      \n"
     ]
    }
   ],
   "source": [
    "print(\"\"\"\n",
    "      this is for multiline thing\n",
    "      this is good for multiline thing .\n",
    "      like it.\n",
    "      \"\"\")"
   ]
  },
  {
   "cell_type": "code",
   "execution_count": 6,
   "metadata": {},
   "outputs": [
    {
     "name": "stdout",
     "output_type": "stream",
     "text": [
      "this is fun \n",
      "this is fun \n",
      "this is fun \n",
      "\n"
     ]
    }
   ],
   "source": [
    " # repeating string \n",
    "print(3 *  \"this is fun \\n\")"
   ]
  }
 ],
 "metadata": {
  "kernelspec": {
   "display_name": "Python 3",
   "language": "python",
   "name": "python3"
  },
  "language_info": {
   "codemirror_mode": {
    "name": "ipython",
    "version": 3
   },
   "file_extension": ".py",
   "mimetype": "text/x-python",
   "name": "python",
   "nbconvert_exporter": "python",
   "pygments_lexer": "ipython3",
   "version": "3.9.11"
  }
 },
 "nbformat": 4,
 "nbformat_minor": 2
}
