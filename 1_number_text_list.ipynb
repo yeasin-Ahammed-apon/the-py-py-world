{
 "cells": [
  {
   "cell_type": "code",
   "execution_count": 12,
   "metadata": {},
   "outputs": [
    {
     "name": "stdout",
     "output_type": "stream",
     "text": [
      "plus = 4\n",
      "Minus = 0\n",
      "divide = 1.0\n",
      "modulas = 0\n",
      "power= 4\n",
      "floors the divided result = 0\n"
     ]
    }
   ],
   "source": [
    "# 3.1.1. Numbers\n",
    "print(\"plus =\",2+2)\n",
    "print(\"Minus =\",2-2)\n",
    "print(\"divide =\",2/2)\n",
    "print(\"modulas =\",2%2)\n",
    "print(\"power=\",2**2)\n",
    "print(\"floors the divided result =\",2 // 3) \n"
   ]
  },
  {
   "cell_type": "code",
   "execution_count": 7,
   "metadata": {},
   "outputs": [
    {
     "name": "stdout",
     "output_type": "stream",
     "text": [
      "113.0625\n"
     ]
    }
   ],
   "source": [
    "tax = 12.5 / 100\n",
    "price = 100.50\n",
    "toatl = price * tax\n",
    "print(price + toatl)\n"
   ]
  }
 ],
 "metadata": {
  "kernelspec": {
   "display_name": "Python 3",
   "language": "python",
   "name": "python3"
  },
  "language_info": {
   "codemirror_mode": {
    "name": "ipython",
    "version": 3
   },
   "file_extension": ".py",
   "mimetype": "text/x-python",
   "name": "python",
   "nbconvert_exporter": "python",
   "pygments_lexer": "ipython3",
   "version": "3.9.11"
  }
 },
 "nbformat": 4,
 "nbformat_minor": 2
}
