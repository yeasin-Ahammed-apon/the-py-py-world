{
 "cells": [
  {
   "cell_type": "code",
   "execution_count": 6,
   "metadata": {},
   "outputs": [
    {
     "name": "stdout",
     "output_type": "stream",
     "text": [
      "your are a middle-aged adult \n",
      "40\n"
     ]
    }
   ],
   "source": [
    "# age chekcing app with python\n",
    "# take a input \n",
    "age = int(input(\"plz give your age\"))\n",
    "\n",
    "# check it with if else . \n",
    "if age < 10:\n",
    "    print(\"your are a child \")\n",
    "elif 10 <= age < 20:\n",
    "    print('your are a teenager ')\n",
    "elif 20 <= age < 30:\n",
    "    print('your are a young adult ')\n",
    "elif 30 <= age < 50:\n",
    "    print('your are a middle-aged adult ')\n",
    "else:\n",
    "    print(\"who the hell are you\")\n",
    "\n",
    "print(age )"
   ]
  }
 ],
 "metadata": {
  "kernelspec": {
   "display_name": "Python 3",
   "language": "python",
   "name": "python3"
  },
  "language_info": {
   "codemirror_mode": {
    "name": "ipython",
    "version": 3
   },
   "file_extension": ".py",
   "mimetype": "text/x-python",
   "name": "python",
   "nbconvert_exporter": "python",
   "pygments_lexer": "ipython3",
   "version": "3.9.11"
  }
 },
 "nbformat": 4,
 "nbformat_minor": 2
}
