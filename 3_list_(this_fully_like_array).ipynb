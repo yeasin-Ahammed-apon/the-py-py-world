{
 "cells": [
  {
   "cell_type": "code",
   "execution_count": 1,
   "metadata": {},
   "outputs": [
    {
     "name": "stdout",
     "output_type": "stream",
     "text": [
      "[1, 2, 3, 4, 5, 6, 7, 8, 9]\n",
      "[1, 2, 3, 4, 5, 6, 7, 8, 9, 216, 343]\n",
      "[1, 2, 3, 4, 5, 6, 7, 8, 9, 216, 343]\n",
      "11\n"
     ]
    }
   ],
   "source": [
    "# 3.1.3. Lists\n",
    "python_array = [1,2,3,4,5,6,7,8,9] # here index is similler to string one \n",
    "# [note most of the things are like array we use all the time ]\n",
    "# Append\n",
    "print(python_array)\n",
    "python_array.append(216)  # add the cube of 6\n",
    "python_array.append(7 ** 3)  # and the cube of 7\n",
    "print(python_array)\n",
    "# python_array[:]=[]\n",
    "print(python_array)\n",
    "print(len(python_array))"
   ]
  }
 ],
 "metadata": {
  "kernelspec": {
   "display_name": "Python 3",
   "language": "python",
   "name": "python3"
  },
  "language_info": {
   "codemirror_mode": {
    "name": "ipython",
    "version": 3
   },
   "file_extension": ".py",
   "mimetype": "text/x-python",
   "name": "python",
   "nbconvert_exporter": "python",
   "pygments_lexer": "ipython3",
   "version": "3.9.11"
  }
 },
 "nbformat": 4,
 "nbformat_minor": 2
}
