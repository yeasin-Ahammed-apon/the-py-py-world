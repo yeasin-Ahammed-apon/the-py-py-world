{
 "cells": [
  {
   "cell_type": "code",
   "execution_count": 3,
   "metadata": {},
   "outputs": [
    {
     "name": "stdout",
     "output_type": "stream",
     "text": [
      "my name is apon\n",
      "my name is xtron\n",
      "my name is orca\n",
      "my name is anis\n"
     ]
    }
   ],
   "source": [
    "def name(name):\n",
    "    print(\"my name is \"+ name)\n",
    "    \n",
    "name(\"apon\")\n",
    "name(\"xtron\")\n",
    "name(\"orca\")\n"
   ]
  },
  {
   "cell_type": "code",
   "execution_count": 5,
   "metadata": {},
   "outputs": [
    {
     "name": "stdout",
     "output_type": "stream",
     "text": [
      "my name is anis\n"
     ]
    }
   ],
   "source": [
    "name_func = name\n",
    "name_func(\"anis\")"
   ]
  },
  {
   "cell_type": "code",
   "execution_count": 9,
   "metadata": {},
   "outputs": [
    {
     "name": "stdout",
     "output_type": "stream",
     "text": [
      "cscsc\n"
     ]
    }
   ],
   "source": [
    "def standard_arg(arg):\n",
    "           print(arg)\n",
    "standard_arg(\"cscsc\")"
   ]
  },
  {
   "cell_type": "code",
   "execution_count": null,
   "metadata": {},
   "outputs": [],
   "source": []
  }
 ],
 "metadata": {
  "kernelspec": {
   "display_name": "Python 3",
   "language": "python",
   "name": "python3"
  },
  "language_info": {
   "codemirror_mode": {
    "name": "ipython",
    "version": 3
   },
   "file_extension": ".py",
   "mimetype": "text/x-python",
   "name": "python",
   "nbconvert_exporter": "python",
   "pygments_lexer": "ipython3",
   "version": "3.9.11"
  }
 },
 "nbformat": 4,
 "nbformat_minor": 2
}
